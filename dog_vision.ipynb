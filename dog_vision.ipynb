{
  "nbformat": 4,
  "nbformat_minor": 0,
  "metadata": {
    "colab": {
      "name": "dog-vision.ipynb",
      "provenance": [],
      "collapsed_sections": [],
      "mount_file_id": "1yhi_rCmePDkvn1jbsvMqMD39QZ1SuZNY",
      "authorship_tag": "ABX9TyN/u3QEITrZE28oefMUei/b",
      "include_colab_link": true
    },
    "kernelspec": {
      "name": "python3",
      "display_name": "Python 3"
    }
  },
  "cells": [
    {
      "cell_type": "markdown",
      "metadata": {
        "id": "view-in-github",
        "colab_type": "text"
      },
      "source": [
        "<a href=\"https://colab.research.google.com/github/abishek-bupathi/dog-breed-identification/blob/master/dog_vision.ipynb\" target=\"_parent\"><img src=\"https://colab.research.google.com/assets/colab-badge.svg\" alt=\"Open In Colab\"/></a>"
      ]
    },
    {
      "cell_type": "code",
      "metadata": {
        "id": "ZS5oPSM57Rfx",
        "colab_type": "code",
        "colab": {}
      },
      "source": [
        "#!unzip \"/content/drive/My Drive/Dog vision/dog-breed-identification.zip\" -d \"/content/drive/My Drive/Dog vision/\""
      ],
      "execution_count": null,
      "outputs": []
    },
    {
      "cell_type": "markdown",
      "metadata": {
        "id": "TCo6nzz60JRj",
        "colab_type": "text"
      },
      "source": [
        "# Multiclass Dog breed classification\n",
        "\n",
        "This notebook builds multi-class image classifier using TensorFlow 2.0 and TensorFlow Hub\n",
        "\n",
        "### 1. Problem\n",
        "\n",
        "Identifying the breed of the dog given an image of a dog.\n",
        "\n",
        "### 2. Data\n",
        "\n",
        "The data used from Kaggle's dog breed identification competition\n",
        "\n",
        "https://www.kaggle.com/c/dog-breed-identification/data\n",
        "\n",
        "### 3. Evaluation\n",
        "\n",
        "A file with prediction probabilities for each dog breed of each test image\n",
        "\n",
        "https://www.kaggle.com/c/dog-breed-identification/overview/evaluation\n",
        "\n",
        "### 4. Features\n",
        "\n",
        "Information about the data:\n",
        "- The data is in the form of images(unstructured) so its best method is to use deep learning/ transfer learning\n",
        "- There are 120 breeds of dogs (multi-class: 120 different classes)\n",
        "- There are 10,000+ images in the training set (images with labels)\n",
        "- There are 10,000+ images in the test set (images without labels)\n",
        "\n",
        "\n"
      ]
    },
    {
      "cell_type": "markdown",
      "metadata": {
        "id": "Wu9MNGNq1ETt",
        "colab_type": "text"
      },
      "source": [
        "## Getting the workspace ready\n",
        "- Import TensorFlow 2.x\n",
        "- Import TensorFlow Hub\n",
        "- Initialize and use GPU"
      ]
    },
    {
      "cell_type": "code",
      "metadata": {
        "id": "Aq0OKakkw1Pn",
        "colab_type": "code",
        "colab": {
          "base_uri": "https://localhost:8080/",
          "height": 34
        },
        "outputId": "6e12d085-9c9a-41e5-8c14-40d32331b8db"
      },
      "source": [
        "# import TensorFlow 2.x\n",
        "import tensorflow as tf\n",
        "print(\"TF version: \", tf.__version__)"
      ],
      "execution_count": 3,
      "outputs": [
        {
          "output_type": "stream",
          "text": [
            "TF version:  2.2.0\n"
          ],
          "name": "stdout"
        }
      ]
    },
    {
      "cell_type": "code",
      "metadata": {
        "id": "96SQm7P01UjX",
        "colab_type": "code",
        "colab": {}
      },
      "source": [
        ""
      ],
      "execution_count": null,
      "outputs": []
    }
  ]
}